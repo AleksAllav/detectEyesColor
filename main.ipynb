{
 "cells": [
  {
   "cell_type": "markdown",
   "metadata": {},
   "source": [
    "This program detects the color of a person's eyes from a photo of their face. The program executes it by this main steps:\n",
    "\n",
    "    1. The searching faces,\n",
    "    2. The searching eyes on the face,\n",
    "    3. The searching the iris on the eye,\n",
    "    4. The detecting dominant color on the iris."
   ]
  },
  {
   "cell_type": "code",
   "execution_count": 13,
   "metadata": {},
   "outputs": [],
   "source": [
    "# import the necessary packages\n",
    "import cv2\n",
    "import lib.detectEyesLib\n",
    "import lib.detectIrisesLib\n",
    "import lib.detectEyesColorLib"
   ]
  },
  {
   "cell_type": "code",
   "execution_count": 14,
   "metadata": {},
   "outputs": [],
   "source": [
    "# Load images of faces\n",
    "facesImages = ['face1','face2','face3','face4','face5','face6','face7']"
   ]
  },
  {
   "cell_type": "code",
   "execution_count": 18,
   "metadata": {},
   "outputs": [
    {
     "name": "stdout",
     "output_type": "stream",
     "text": [
      "[[ 97 291 873 873]]\n",
      "[[ 77 159 696 696]]\n",
      "[[0, 0, 1280, 854]]\n",
      "[[125 203 562 562]]\n",
      "[[0, 0, 1546, 1160]]\n",
      "[[1532   87 1469 1469]]\n",
      "[[0, 0, 626, 1084]]\n"
     ]
    }
   ],
   "source": [
    "# Detect eyes on images of faces and return images of eyes\n",
    "eyesImages = []\n",
    "    for name in facesImages:\n",
    "        scinColor, currentEyesImages = lib.detectEyesLib.detectEyes(name, cv2.imread('./pictures/faces/' + name + '.jpg'))\n",
    "        eyesImages.append(currentEyesImages)"
   ]
  },
  {
   "cell_type": "code",
   "execution_count": 16,
   "metadata": {},
   "outputs": [],
   "source": [
    "# Load the image and return countours of irises \n",
    "irisesImages = []\n",
    "for _ in eyesImages:        \n",
    "    for name in _:\n",
    "        irisesImages.append(lib.detectIrisesLib.detectIrises(name, cv2.imread('./labeled/detectFace/' + name + '.jpg')))"
   ]
  },
  {
   "cell_type": "code",
   "execution_count": 17,
   "metadata": {},
   "outputs": [],
   "source": [
    "# Load the image of irises and the detect color of eye\n",
    "for _ in irisesImages:        \n",
    "    for name in _:\n",
    "        lib.detectEyesColorLib.detectEyesColor(name, cv2.imread('./labeled/detectEye/' + name + '.jpg')) "
   ]
  }
 ],
 "metadata": {
  "kernelspec": {
   "display_name": "Python 3",
   "language": "python",
   "name": "python3"
  },
  "language_info": {
   "codemirror_mode": {
    "name": "ipython",
    "version": 3
   },
   "file_extension": ".py",
   "mimetype": "text/x-python",
   "name": "python",
   "nbconvert_exporter": "python",
   "pygments_lexer": "ipython3",
   "version": "3.5.3"
  }
 },
 "nbformat": 4,
 "nbformat_minor": 4
}
