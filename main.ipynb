{
 "cells": [
  {
   "cell_type": "markdown",
   "metadata": {},
   "source": [
    "This program detects the color of a person's eyes from a photo of their face. The program executes it by this main steps:\n",
    "\n",
    "    1. The searching faces,\n",
    "    2. The searching eyes on the face,\n",
    "    3. The searching the iris on the eye,\n",
    "    4. The detecting dominant color on the iris."
   ]
  },
  {
   "cell_type": "code",
   "execution_count": 1,
   "metadata": {},
   "outputs": [],
   "source": [
    "# import the necessary packages\n",
    "import cv2\n",
    "import lib.detectEyesLib\n",
    "import lib.detectIrisesLib\n",
    "import lib.detectEyesColorLib"
   ]
  },
  {
   "cell_type": "code",
   "execution_count": 2,
   "metadata": {},
   "outputs": [],
   "source": [
    "# Load images of faces\n",
    "facesImages = ['face1','face2','face3','face4','face5','face6','face7']"
   ]
  },
  {
   "cell_type": "code",
   "execution_count": 3,
   "metadata": {},
   "outputs": [
    {
     "name": "stdout",
     "output_type": "stream",
     "text": [
      "Debug: The end of detecting eyes\n"
     ]
    }
   ],
   "source": [
    "# Detect eyes on images of faces and return images of eyes\n",
    "eyesImages = []\n",
    "for name in facesImages:\n",
    "    scinColor, currentEyesImages = lib.detectEyesLib.detectEyes(name, cv2.imread('./pictures/faces/' + name + '.jpg'))\n",
    "    eyesImages.append(currentEyesImages)\n",
    "print('Debug: The end of detecting eyes')"
   ]
  },
  {
   "cell_type": "code",
   "execution_count": 4,
   "metadata": {},
   "outputs": [
    {
     "name": "stdout",
     "output_type": "stream",
     "text": [
      "Debug: The end of detecting irises\n"
     ]
    }
   ],
   "source": [
    "# Load the image and return countours of irises \n",
    "irisesImages = []\n",
    "for _ in eyesImages: \n",
    "    for eye in _:\n",
    "        irisesImages.append(lib.detectIrisesLib.detectIrises(name, eye))            \n",
    "print('Debug: The end of detecting irises')"
   ]
  },
  {
   "cell_type": "code",
   "execution_count": 5,
   "metadata": {},
   "outputs": [
    {
     "name": "stdout",
     "output_type": "stream",
     "text": [
      "Debug: The end of detecting eyes color\n"
     ]
    }
   ],
   "source": [
    "# Load the image of irises and the detect color of eye\n",
    "for _ in irisesImages:\n",
    "    for iris in _:\n",
    "        lib.detectEyesColorLib.detectEyesColor(name, iris)\n",
    "print('Debug: The end of detecting eyes color')"
   ]
  }
 ],
 "metadata": {
  "kernelspec": {
   "display_name": "Python 3",
   "language": "python",
   "name": "python3"
  },
  "language_info": {
   "codemirror_mode": {
    "name": "ipython",
    "version": 3
   },
   "file_extension": ".py",
   "mimetype": "text/x-python",
   "name": "python",
   "nbconvert_exporter": "python",
   "pygments_lexer": "ipython3",
   "version": "3.5.3"
  }
 },
 "nbformat": 4,
 "nbformat_minor": 4
}
