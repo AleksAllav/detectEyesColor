{
 "cells": [
  {
   "cell_type": "markdown",
   "metadata": {},
   "source": [
    "This program determines the color of a person's eyes from a photo of their face. The program is divided into three parts\n",
    "\n",
    "1. Eye detection on the face\n",
    "2. Definition of iris\n",
    "3. Determining the dominant color of the iris\n",
    "\n",
    "Face and eye detection is performed using haarcascades methods. The iris search is performed using the HoughCircles method. On the test data, this method showed better results compared to the findContours method. After finding the iris, the eye color detection function is passed directly to the iris itself, cut from the mask. Then the eye+dominant color is written to the folder for verification.\n"
   ]
  },
  {
   "cell_type": "code",
   "execution_count": null,
   "metadata": {},
   "outputs": [],
   "source": [
    "# import the necessary packages\n",
    "import lib.detectEyesLib\n",
    "import lib.detectIrisesLib\n",
    "import lib.detectEyesColorLib\n",
    "import cv2"
   ]
  },
  {
   "cell_type": "code",
   "execution_count": 2,
   "metadata": {},
   "outputs": [],
   "source": [
    "# load images of faces\n",
    "facesImages = ['face1','face2','face3','face4','face9','face8','face7']"
   ]
  },
  {
   "cell_type": "code",
   "execution_count": 3,
   "metadata": {},
   "outputs": [
    {
     "name": "stdout",
     "output_type": "stream",
     "text": [
      "[[ 97 291 873 873]]\n",
      "Лиц обнаружено: 1\n",
      "[[ 77 159 696 696]]\n",
      "Лиц обнаружено: 1\n",
      "[[234 438 994 994]]\n",
      "Лиц обнаружено: 1\n",
      "[[337 120 649 649]]\n",
      "Лиц обнаружено: 1\n",
      "[[ 345  290 2112 2112]]\n",
      "Лиц обнаружено: 1\n",
      "[[0, 0, 1600, 1200]]\n",
      "Лиц обнаружено: 1\n",
      "[[0, 0, 1280, 854]]\n",
      "Лиц обнаружено: 1\n"
     ]
    }
   ],
   "source": [
    "# detect eyes on images of faces and return images of eyes\n",
    "eyesImages = []\n",
    "for name in facesImages:\n",
    "    eyesImages.append(lib.detectEyesLib.detectEyes(name, cv2.imread('./pictures/faces/' + name + '.jpg')))"
   ]
  },
  {
   "cell_type": "code",
   "execution_count": 4,
   "metadata": {},
   "outputs": [],
   "source": [
    "# load the image and return countours of irises \n",
    "irisesImages = []\n",
    "for _ in eyesImages:        \n",
    "    for name in _:\n",
    "        irisesImages.append(lib.detectIrisesLib.detectIrises(name, cv2.imread('./labeled/detectFace/'+name+'.jpg')))"
   ]
  },
  {
   "cell_type": "code",
   "execution_count": 5,
   "metadata": {},
   "outputs": [],
   "source": [
    "# load the image of irises and the detect color of eye\n",
    "for _ in irisesImages:        \n",
    "    for name in _:\n",
    "        lib.detectEyesColorLib.detectEyesColor(name, cv2.imread('./labeled/detectEye/'+name+'.jpg')) "
   ]
  }
 ],
 "metadata": {
  "kernelspec": {
   "display_name": "Python 3",
   "language": "python",
   "name": "python3"
  },
  "language_info": {
   "codemirror_mode": {
    "name": "ipython",
    "version": 3
   },
   "file_extension": ".py",
   "mimetype": "text/x-python",
   "name": "python",
   "nbconvert_exporter": "python",
   "pygments_lexer": "ipython3",
   "version": "3.5.3"
  }
 },
 "nbformat": 4,
 "nbformat_minor": 4
}
