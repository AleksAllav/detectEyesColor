{
 "cells": [
  {
   "cell_type": "markdown",
   "metadata": {},
   "source": [
    "This program detects the color of a person's eyes from a photo of their face. The program executes it by this main steps:\n",
    "\n",
    "    1. The searching faces,\n",
    "    2. The searching eyes on the face,\n",
    "    3. The searching the iris on the eye,\n",
    "    4. The detecting dominant color on the iris."
   ]
  },
  {
   "cell_type": "code",
   "execution_count": 16,
   "metadata": {
    "pycharm": {
     "is_executing": false
    }
   },
   "outputs": [],
   "source": [
    "# import the necessary packages\n",
    "import cv2\n",
    "import lib.detectEyesLib\n",
    "import lib.detectIrisesLib\n",
    "import lib.detectEyesColorLib"
   ]
  },
  {
   "cell_type": "code",
   "execution_count": 17,
   "metadata": {
    "pycharm": {
     "is_executing": false
    }
   },
   "outputs": [],
   "source": [
    "# Load images of faces\n",
    "facesImages = ('face1', 'face2', 'face3')"
   ]
  },
  {
   "cell_type": "code",
   "execution_count": 18,
   "metadata": {
    "pycharm": {
     "is_executing": false
    }
   },
   "outputs": [
    {
     "name": "stdout",
     "text": [
      "Debug: The end of detecting eyes\n"
     ],
     "output_type": "stream"
    }
   ],
   "source": [
    "# Detect eyes on images of faces and return images of eyes\n",
    "eyesImages = []\n",
    "for name in facesImages:\n",
    "    scinColor, currentEyesImages = lib.detectEyesLib.detectEyes(name, cv2.imread('./pictures/faces/' + name + '.jpg'))\n",
    "    eyesImages.append(currentEyesImages)\n",
    "print('Debug: The end of detecting eyes')"
   ]
  },
  {
   "cell_type": "code",
   "execution_count": 19,
   "metadata": {
    "pycharm": {
     "is_executing": false
    }
   },
   "outputs": [
    {
     "name": "stdout",
     "text": [
      "Debug: The end of detecting irises\n"
     ],
     "output_type": "stream"
    }
   ],
   "source": [
    "# Load the image and return countours of irises \n",
    "irisesImages = []\n",
    "for _ in eyesImages: \n",
    "    for eye in _:\n",
    "        irisesImages.append(lib.detectIrisesLib.detectIrises(name, eye))            \n",
    "print('Debug: The end of detecting irises')"
   ]
  },
  {
   "cell_type": "code",
   "execution_count": 20,
   "metadata": {
    "pycharm": {
     "is_executing": false
    }
   },
   "outputs": [
    {
     "name": "stdout",
     "text": [
      "Debug: The end of detecting eyes color\n"
     ],
     "output_type": "stream"
    }
   ],
   "source": [
    "# Load the image of irises and the detect color of eye\n",
    "for _ in irisesImages:\n",
    "    for iris in _:\n",
    "        lib.detectEyesColorLib.detectEyesColor(name, iris)\n",
    "print('Debug: The end of detecting eyes color')"
   ]
  },
  {
   "cell_type": "code",
   "execution_count": 20,
   "metadata": {
    "pycharm": {
     "is_executing": false
    }
   },
   "outputs": [],
   "source": []
  }
 ],
 "metadata": {
  "kernelspec": {
   "display_name": "Python 3",
   "language": "python",
   "name": "python3"
  },
  "language_info": {
   "codemirror_mode": {
    "name": "ipython",
    "version": 3
   },
   "file_extension": ".py",
   "mimetype": "text/x-python",
   "name": "python",
   "nbconvert_exporter": "python",
   "pygments_lexer": "ipython3",
   "version": "3.5.3"
  }
 },
 "nbformat": 4,
 "nbformat_minor": 4
}